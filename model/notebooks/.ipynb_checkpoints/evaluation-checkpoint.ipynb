{
  "nbformat": 4,
  "nbformat_minor": 0,
  "metadata": {
    "colab": {
      "provenance": []
    },
    "kernelspec": {
      "name": "python3",
      "display_name": "Python 3"
    },
    "language_info": {
      "name": "python"
    }
  },
  "cells": [
    {
      "cell_type": "code",
      "execution_count": null,
      "metadata": {
        "id": "0CWX9rD3rWCb"
      },
      "outputs": [],
      "source": [
        "# Threat Zone Prediction Model Evaluation\n",
        "\n",
        "This notebook evaluates our trained models on test data and explores their performance in real-world scenarios."
      ]
    },
    {
      "cell_type": "code",
      "source": [
        "import sys\n",
        "import os\n",
        "import pandas as pd\n",
        "import numpy as np\n",
        "import matplotlib.pyplot as plt\n",
        "import seaborn as sns\n",
        "from sklearn.metrics import (\n",
        "    accuracy_score, precision_score, recall_score, f1_score,\n",
        "    classification_report, confusion_matrix, roc_curve, roc_auc_score,\n",
        "    precision_recall_curve, average_precision_score\n",
        ")\n",
        "import joblib\n",
        "\n",
        "# Add parent directory to path for importing modules\n",
        "sys.path.insert(0, os.path.abspath(os.path.join(os.getcwd(), '..')))\n",
        "\n",
        "from models.threat_model import ThreatModel\n",
        "from models.explosion_model import ExplosionModel\n",
        "from models.dispersion_model import DispersionModel\n",
        "from models.preprocessing import generate_synthetic_data\n",
        "from utils.geo_utils import calculate_threat_zone\n",
        "from utils.visualization import _polygon_to_coordinates\n",
        "from config import Config\n",
        "\n",
        "%matplotlib inline\n",
        "plt.style.use('ggplot')\n",
        "sns.set_theme(style=\"whitegrid\")\n"
      ],
      "metadata": {
        "id": "pp22YGHKraQK"
      },
      "execution_count": null,
      "outputs": []
    },
    {
      "cell_type": "code",
      "source": [
        "## Load Models and Test Data\n"
      ],
      "metadata": {
        "id": "6qyhZJ-NreJo"
      },
      "execution_count": null,
      "outputs": []
    },
    {
      "cell_type": "code",
      "source": [
        "# Load the models\n",
        "threat_model = ThreatModel('../models/saved/threat_model.joblib')\n",
        "explosion_model = ExplosionModel('../models/saved/explosion_model.joblib')\n",
        "dispersion_model = DispersionModel('../models/saved/dispersion_model.joblib')\n",
        "\n",
        "# Generate test data if it doesn't exist\n",
        "try:\n",
        "    test_data = pd.read_csv('../data/test/test.csv')\n",
        "    print(f\"Loaded test data with {len(test_data)} samples\")\n",
        "except FileNotFoundError:\n",
        "    print(\"Test data not found, generating synthetic test data\")\n",
        "    X, y = generate_synthetic_data(n_samples=1000, include_anomalies=True)\n",
        "    test_data = X.copy()\n",
        "    test_data['threat_level'] = y\n",
        "\n",
        "    # Create directory if it doesn't exist\n",
        "    os.makedirs('../data/test', exist_ok=True)\n",
        "    test_data.to_csv('../data/test/test.csv', index=False)\n",
        "    print(f\"Generated {len(test_data)} test data samples\")\n"
      ],
      "metadata": {
        "id": "oN_dkPAFrgeD"
      },
      "execution_count": null,
      "outputs": []
    },
    {
      "cell_type": "code",
      "source": [
        "## Evaluate Threat Detection Model\n"
      ],
      "metadata": {
        "id": "CO2X7xMYriIb"
      },
      "execution_count": null,
      "outputs": []
    },
    {
      "cell_type": "code",
      "source": [
        "# Separate features and target\n",
        "X_test = test_data.drop(columns=['threat_level'])\n",
        "y_test = test_data['threat_level']\n",
        "\n",
        "# Make predictions using the threat model\n",
        "predictions = []\n",
        "scores = []\n",
        "detailed_results = []\n",
        "\n",
        "for _, row in X_test.iterrows():\n",
        "    result = threat_model.predict(\n",
        "        row['mq2'], row['mq4'], row['mq6'], row['mq8'],\n",
        "        row['temperature'], row['humidity']\n",
        "    )\n",
        "    # Store prediction (1 for high or medium risk, 0 for low risk or safe)\n",
        "    prediction = 1 if result['risk_score'] >= 0.5 else 0\n",
        "    predictions.append(prediction)\n",
        "    scores.append(result['risk_score'])\n",
        "    detailed_results.append(result)\n",
        "\n",
        "# Calculate metrics\n",
        "accuracy = accuracy_score(y_test, predictions)\n",
        "precision = precision_score(y_test, predictions, zero_division=0)\n",
        "recall = recall_score(y_test, predictions, zero_division=0)\n",
        "f1 = f1_score(y_test, predictions, zero_division=0)\n",
        "\n",
        "print(f\"Accuracy: {accuracy:.4f}\")\n",
        "print(f\"Precision: {precision:.4f}\")\n",
        "print(f\"Recall: {recall:.4f}\")\n",
        "print(f\"F1 Score: {f1:.4f}\")\n",
        "\n",
        "# Display classification report\n",
        "print(\"\\nClassification Report:\")\n",
        "print(classification_report(y_test, predictions))\n"
      ],
      "metadata": {
        "id": "wii_jkUsrkQq"
      },
      "execution_count": null,
      "outputs": []
    },
    {
      "cell_type": "code",
      "source": [
        "# Plot confusion matrix\n",
        "cm = confusion_matrix(y_test, predictions)\n",
        "plt.figure(figsize=(8, 6))\n",
        "sns.heatmap(cm, annot=True, fmt='d', cmap='Blues', cbar=False,\n",
        "            xticklabels=['Safe', 'Threat'],\n",
        "            yticklabels=['Safe', 'Threat'])\n",
        "plt.xlabel('Predicted')\n",
        "plt.ylabel('Actual')\n",
        "plt.title('Confusion Matrix')\n",
        "plt.show()\n"
      ],
      "metadata": {
        "id": "PoMEuPVorlrd"
      },
      "execution_count": null,
      "outputs": []
    },
    {
      "cell_type": "code",
      "source": [
        "# Plot ROC curve\n",
        "fpr, tpr, _ = roc_curve(y_test, scores)\n",
        "roc_auc = roc_auc_score(y_test, scores)\n",
        "\n",
        "plt.figure(figsize=(8, 6))\n",
        "plt.plot(fpr, tpr, color='darkorange', lw=2, label=f'ROC curve (area = {roc_auc:.2f})')\n",
        "plt.plot([0, 1], [0, 1], color='navy', lw=2, linestyle='--')\n",
        "plt.xlim([0.0, 1.0])\n",
        "plt.ylim([0.0, 1.05])\n",
        "plt.xlabel('False Positive Rate')\n",
        "plt.ylabel('True Positive Rate')\n",
        "plt.title('Receiver Operating Characteristic')\n",
        "plt.legend(loc=\"lower right\")\n",
        "plt.grid(True)\n",
        "plt.show()\n"
      ],
      "metadata": {
        "id": "YcRB3SIgrnuj"
      },
      "execution_count": null,
      "outputs": []
    },
    {
      "cell_type": "code",
      "source": [
        "# Plot Precision-Recall curve\n",
        "precision_curve, recall_curve, _ = precision_recall_curve(y_test, scores)\n",
        "ap = average_precision_score(y_test, scores)\n",
        "\n",
        "plt.figure(figsize=(8, 6))\n",
        "plt.plot(recall_curve, precision_curve, color='blue', lw=2,\n",
        "         label=f'Precision-Recall curve (AP = {ap:.2f})')\n",
        "plt.xlabel('Recall')\n",
        "plt.ylabel('Precision')\n",
        "plt.title('Precision-Recall Curve')\n",
        "plt.legend(loc=\"upper right\")\n",
        "plt.grid(True)\n",
        "plt.show()\n"
      ],
      "metadata": {
        "id": "QEL5HM-GrpVk"
      },
      "execution_count": null,
      "outputs": []
    },
    {
      "cell_type": "code",
      "source": [
        "## Risk Score Distribution\n"
      ],
      "metadata": {
        "id": "Xhwbhr4YrrRA"
      },
      "execution_count": null,
      "outputs": []
    },
    {
      "cell_type": "code",
      "source": [
        "# Add scores to test data\n",
        "test_data_with_scores = test_data.copy()\n",
        "test_data_with_scores['risk_score'] = scores\n",
        "\n",
        "# Plot risk score distribution by actual threat level\n",
        "plt.figure(figsize=(10, 6))\n",
        "sns.histplot(data=test_data_with_scores, x='risk_score', hue='threat_level',\n",
        "             bins=50, kde=True, element=\"step\")\n",
        "plt.axvline(x=0.5, color='red', linestyle='--', label='Decision Threshold (0.5)')\n",
        "plt.title('Risk Score Distribution by Actual Threat Level')\n",
        "plt.xlabel('Risk Score')\n",
        "plt.ylabel('Count')\n",
        "plt.legend(['Decision Threshold (0.5)', 'Safe', 'Threat'])\n",
        "plt.grid(True)\n",
        "plt.show()\n"
      ],
      "metadata": {
        "id": "ZELeiKtyrus2"
      },
      "execution_count": null,
      "outputs": []
    },
    {
      "cell_type": "code",
      "source": [
        "## Test Explosion Model\n"
      ],
      "metadata": {
        "id": "1ohPrK2irxM8"
      },
      "execution_count": null,
      "outputs": []
    },
    {
      "cell_type": "code",
      "source": [
        "# Test explosion model with different gas concentrations\n",
        "gas_concentrations = [500, 1000, 2000, 5000]\n",
        "temperatures = [20, 30, 40, 50]\n",
        "\n",
        "results = []\n",
        "\n",
        "for gas in gas_concentrations:\n",
        "    for temp in temperatures:\n",
        "        explosion_result = explosion_model.predict(gas, temp)\n",
        "\n",
        "        # Store key parameters\n",
        "        results.append({\n",
        "            'gas_concentration': gas,\n",
        "            'temperature': temp,\n",
        "            'energy_release': explosion_result['energy_release'],\n",
        "            'fireball_radius': explosion_result['fireball_radius'],\n",
        "            'distance_to_overpressure_15kPa': explosion_result['distance_to_overpressure']['15kPa'],\n",
        "            'distance_to_radiation_10kW': explosion_result['distance_to_radiation']['10kW/m²']\n",
        "        })\n",
        "\n",
        "# Convert to DataFrame for easier analysis\n",
        "explosion_results_df = pd.DataFrame(results)\n",
        "explosion_results_df.head()\n"
      ],
      "metadata": {
        "id": "IlMnnC6Ery7K"
      },
      "execution_count": null,
      "outputs": []
    },
    {
      "cell_type": "code",
      "source": [
        "# Visualize relationship between gas concentration, temperature, and explosion effects\n",
        "fig, axes = plt.subplots(2, 2, figsize=(16, 12))\n",
        "\n",
        "# Plot energy release\n",
        "for temp in temperatures:\n",
        "    temp_data = explosion_results_df[explosion_results_df['temperature'] == temp]\n",
        "    axes[0, 0].plot(temp_data['gas_concentration'], temp_data['energy_release'],\n",
        "                   marker='o', label=f'Temperature: {temp}°C')\n",
        "axes[0, 0].set_title('Energy Release vs Gas Concentration')\n",
        "axes[0, 0].set_xlabel('Gas Concentration (ppm)')\n",
        "axes[0, 0].set_ylabel('Energy Release (MJ)')\n",
        "axes[0, 0].legend()\n",
        "axes[0, 0].grid(True)\n",
        "\n",
        "# Plot fireball radius\n",
        "for temp in temperatures:\n",
        "    temp_data = explosion_results_df[explosion_results_df['temperature'] == temp]\n",
        "    axes[0, 1].plot(temp_data['gas_concentration'], temp_data['fireball_radius'],\n",
        "                   marker='o', label=f'Temperature: {temp}°C')\n",
        "axes[0, 1].set_title('Fireball Radius vs Gas Concentration')\n",
        "axes[0, 1].set_xlabel('Gas Concentration (ppm)')\n",
        "axes[0, 1].set_ylabel('Fireball Radius (m)')\n",
        "axes[0, 1].legend()\n",
        "axes[0, 1].grid(True)\n",
        "\n",
        "# Plot distance to overpressure\n",
        "for temp in temperatures:\n",
        "    temp_data = explosion_results_df[explosion_results_df['temperature'] == temp]\n",
        "    axes[1, 0].plot(temp_data['gas_concentration'], temp_data['distance_to_overpressure_15kPa'],\n",
        "                   marker='o', label=f'Temperature: {temp}°C')\n",
        "axes[1, 0].set_title('Distance to 15kPa Overpressure vs Gas Concentration')\n",
        "axes[1, 0].set_xlabel('Gas Concentration (ppm)')\n",
        "axes[1, 0].set_ylabel('Distance (m)')\n",
        "axes[1, 0].legend()\n",
        "axes[1, 0].grid(True)\n",
        "\n",
        "# Plot distance to radiation\n",
        "for temp in temperatures:\n",
        "    temp_data = explosion_results_df[explosion_results_df['temperature'] == temp]\n",
        "    axes[1, 1].plot(temp_data['gas_concentration'], temp_data['distance_to_radiation_10kW'],\n",
        "                   marker='o', label=f'Temperature: {temp}°C')\n",
        "axes[1, 1].set_title('Distance to 10kW/m² Radiation vs Gas Concentration')\n",
        "axes[1, 1].set_xlabel('Gas Concentration (ppm)')\n",
        "axes[1, 1].set_ylabel('Distance (m)')\n",
        "axes[1, 1].legend()\n",
        "axes[1, 1].grid(True)\n",
        "\n",
        "plt.tight_layout()\n",
        "plt.show()\n"
      ],
      "metadata": {
        "id": "RN4xdpesr0rq"
      },
      "execution_count": null,
      "outputs": []
    }
  ]
}